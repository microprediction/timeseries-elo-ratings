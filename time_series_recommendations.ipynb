{
  "nbformat": 4,
  "nbformat_minor": 0,
  "metadata": {
    "colab": {
      "name": "time-series-recommendations.ipynb",
      "provenance": [],
      "collapsed_sections": [],
      "authorship_tag": "ABX9TyN1JXEYFJYqe66nY+cEjoE5",
      "include_colab_link": true
    },
    "kernelspec": {
      "name": "python3",
      "display_name": "Python 3"
    },
    "language_info": {
      "name": "python"
    }
  },
  "cells": [
    {
      "cell_type": "markdown",
      "metadata": {
        "id": "view-in-github",
        "colab_type": "text"
      },
      "source": [
        "<a href=\"https://colab.research.google.com/github/microprediction/timeseries-elo-ratings/blob/main/time_series_recommendations.ipynb\" target=\"_parent\"><img src=\"https://colab.research.google.com/assets/colab-badge.svg\" alt=\"Open In Colab\"/></a>"
      ]
    },
    {
      "cell_type": "code",
      "metadata": {
        "id": "VpVcKkLfnrwI"
      },
      "source": [
        "!pip install --upgrade timemachines\n",
        "!pip install --upgrade statsmodels"
      ],
      "execution_count": null,
      "outputs": []
    },
    {
      "cell_type": "markdown",
      "metadata": {
        "id": "3MEM-rv5pHSq"
      },
      "source": [
        "# Time-series package recommender \n",
        "This notebook shows you how to get recommendations for timeseries methods, depending on how far ahead you want to be forecasting and how much computation you wish to spend. These recommendations are based on continuously updated [Elo ratings](https://microprediction.github.io/timeseries-elo-ratings/html_leaderboards/univariate-k_003.html) so will change from day to day. \n",
        "\n",
        "![](https://i.imgur.com/0WD8yka.png)\n",
        "\n",
        "Click through to those [leaderboards](https://microprediction.github.io/timeseries-elo-ratings/html_leaderboards/univariate-k_008.html)  to see the packages they draw functionality from, such as statsmodels, sktime, tbats, prophet, divinity, orbit, river, pydlm, neuralprophet and so forth. \n"
      ]
    },
    {
      "cell_type": "markdown",
      "metadata": {
        "id": "a7IuHdA8pozz"
      },
      "source": [
        "### Suggest 12 models that might be okay at 5-step ahead prediction"
      ]
    },
    {
      "cell_type": "code",
      "metadata": {
        "colab": {
          "base_uri": "https://localhost:8080/"
        },
        "id": "aYu_3FW7n2xV",
        "outputId": "6a33f896-e64e-428a-f415-07f474e935d7"
      },
      "source": [
        "from timemachines.skatertools.recommendations.suggestions import top_rated_names\n",
        "top_rated_names(k=5,n=12)"
      ],
      "execution_count": 35,
      "outputs": [
        {
          "output_type": "execute_result",
          "data": {
            "text/plain": [
              "['quick_balanced_ema_ensemble',\n",
              " 'balanced_ema_ensemble',\n",
              " 'sluggish_moving_average',\n",
              " 'slow_balanced_ema_ensemble',\n",
              " 'thinking_slow_and_slow',\n",
              " 'slowly_moving_average',\n",
              " 'sk_ae_add_damped',\n",
              " 'pmd_univariate',\n",
              " 'precision_ema_ensemble',\n",
              " 'quick_precision_ema_ensemble',\n",
              " 'pmd_exogenous_hypocratic',\n",
              " 'quick_aggressive_ema_ensemble']"
            ]
          },
          "metadata": {
            "tags": []
          },
          "execution_count": 35
        }
      ]
    },
    {
      "cell_type": "markdown",
      "metadata": {
        "id": "VdzE5jX_ptmm"
      },
      "source": [
        "## Suggest **fast** models that might be okay at 3-step ahead prediction \n"
      ]
    },
    {
      "cell_type": "code",
      "metadata": {
        "colab": {
          "base_uri": "https://localhost:8080/"
        },
        "id": "-AP7ZPK5py6N",
        "outputId": "087cc7f9-040f-42fc-c7ec-1110181b8269"
      },
      "source": [
        "top_rated_names(k=5,max_seconds=0.1)"
      ],
      "execution_count": 22,
      "outputs": [
        {
          "output_type": "execute_result",
          "data": {
            "text/plain": [
              "['quick_balanced_ema_ensemble',\n",
              " 'balanced_ema_ensemble',\n",
              " 'sluggish_moving_average',\n",
              " 'slow_balanced_ema_ensemble',\n",
              " 'thinking_slow_and_slow']"
            ]
          },
          "metadata": {
            "tags": []
          },
          "execution_count": 22
        }
      ]
    },
    {
      "cell_type": "markdown",
      "metadata": {
        "id": "IqTIsYK8qWqF"
      },
      "source": [
        "## Suggest models that might be good at predicting residuals\n",
        "\n",
        "\n",
        "\n"
      ]
    },
    {
      "cell_type": "code",
      "metadata": {
        "colab": {
          "base_uri": "https://localhost:8080/"
        },
        "id": "5qF2jiMfqxdP",
        "outputId": "599a0215-da78-44a9-c654-1004f4aaee91"
      },
      "source": [
        "top_rated_names(k=7,category='residual',n=10)"
      ],
      "execution_count": 23,
      "outputs": [
        {
          "output_type": "execute_result",
          "data": {
            "text/plain": [
              "['thinking_fast_and_slow',\n",
              " 'aggressive_ema_ensemble',\n",
              " 'tsa_precision_theta_ensemble',\n",
              " 'precision_ema_ensemble',\n",
              " 'slow_balanced_ema_ensemble',\n",
              " 'quickly_moving_average',\n",
              " 'tsa_aggressive_theta_ensemble',\n",
              " 'sk_theta',\n",
              " 'thinking_slow_and_slow',\n",
              " 'thinking_slow_and_fast']"
            ]
          },
          "metadata": {
            "tags": []
          },
          "execution_count": 23
        }
      ]
    },
    {
      "cell_type": "markdown",
      "metadata": {
        "id": "QCMn0ZLuq-d1"
      },
      "source": [
        "## Instantiate and use a model"
      ]
    },
    {
      "cell_type": "markdown",
      "metadata": {
        "id": "PZEzpke6rBZF"
      },
      "source": [
        "If the models you wish to use require statsmodels or timemachines only, you are good to go. "
      ]
    },
    {
      "cell_type": "code",
      "metadata": {
        "colab": {
          "base_uri": "https://localhost:8080/"
        },
        "id": "mWnoCxW7yY94",
        "outputId": "33667bb8-fc99-4017-de1d-553194f08425"
      },
      "source": [
        "from timemachines.skaters.localskaters import local_skater_from_name\n",
        "f = local_skater_from_name('thinking_fast_and_slow')\n",
        "f"
      ],
      "execution_count": 48,
      "outputs": [
        {
          "output_type": "execute_result",
          "data": {
            "text/plain": [
              "<function timemachines.skaters.simple.thinking.thinking_fast_and_slow>"
            ]
          },
          "metadata": {
            "tags": []
          },
          "execution_count": 48
        }
      ]
    },
    {
      "cell_type": "markdown",
      "metadata": {
        "id": "dgKiFhRuydcK"
      },
      "source": [
        "But otherwise you need to install the third party library. There's a utility to tell you where the package is. "
      ]
    },
    {
      "cell_type": "code",
      "metadata": {
        "colab": {
          "base_uri": "https://localhost:8080/",
          "height": 35
        },
        "id": "kWGxc56qwQ5c",
        "outputId": "06b95479-9c58-44c5-c604-8c355b08b9ab"
      },
      "source": [
        "from timemachines.skatertools.utilities.locations import pypi_from_name\n",
        "pypi_from_name('sk_time')"
      ],
      "execution_count": 47,
      "outputs": [
        {
          "output_type": "execute_result",
          "data": {
            "application/vnd.google.colaboratory.intrinsic+json": {
              "type": "string"
            },
            "text/plain": [
              "'https://pypi.org/project/sktime'"
            ]
          },
          "metadata": {
            "tags": []
          },
          "execution_count": 47
        }
      ]
    },
    {
      "cell_type": "markdown",
      "metadata": {
        "id": "5sHYKj96wfQU"
      },
      "source": [
        "You might need to read the author's instructions, but I'm feeling lucky..."
      ]
    },
    {
      "cell_type": "code",
      "metadata": {
        "id": "-XB1vCsnrGCC"
      },
      "source": [
        "!pip install --upgrade sktime"
      ],
      "execution_count": null,
      "outputs": []
    },
    {
      "cell_type": "markdown",
      "metadata": {
        "id": "S_DFErK_t-iM"
      },
      "source": [
        "One can check that timemachines is good to go:"
      ]
    },
    {
      "cell_type": "code",
      "metadata": {
        "colab": {
          "base_uri": "https://localhost:8080/"
        },
        "id": "0-A_YG4xslsO",
        "outputId": "a3fcd3f2-2292-46af-888d-33cbd0aeb1e7"
      },
      "source": [
        "from timemachines.skaters.sk.skinclusion import using_sktime\n",
        "using_sktime"
      ],
      "execution_count": 28,
      "outputs": [
        {
          "output_type": "execute_result",
          "data": {
            "text/plain": [
              "True"
            ]
          },
          "metadata": {
            "tags": []
          },
          "execution_count": 28
        }
      ]
    },
    {
      "cell_type": "markdown",
      "metadata": {
        "id": "td9armI9uDpY"
      },
      "source": [
        "You should also notice that the list of all local skaters now includes sktime skaters. "
      ]
    },
    {
      "cell_type": "code",
      "metadata": {
        "colab": {
          "base_uri": "https://localhost:8080/"
        },
        "id": "g_JMeHjPsbKM",
        "outputId": "bdefbf8d-4669-4afa-f92f-13191959ae23"
      },
      "source": [
        "from timemachines.skaters.localskaters import LOCAL_SKATERS\n",
        "LOCAL_SKATERS[-3:]"
      ],
      "execution_count": 30,
      "outputs": [
        {
          "output_type": "execute_result",
          "data": {
            "text/plain": [
              "[<function timemachines.skaters.simple.hypocraticensemble.quick_precision_ema_ensemble>,\n",
              " <function timemachines.skaters.simple.hypocraticensemble.slow_precision_ema_ensemble>,\n",
              " <function timemachines.skaters.sk.sktheta.sk_theta>]"
            ]
          },
          "metadata": {
            "tags": []
          },
          "execution_count": 30
        }
      ]
    },
    {
      "cell_type": "markdown",
      "metadata": {
        "id": "LiDyERowuL51"
      },
      "source": [
        "There's a utility for loading a skater from the name"
      ]
    },
    {
      "cell_type": "code",
      "metadata": {
        "colab": {
          "base_uri": "https://localhost:8080/"
        },
        "id": "zCrcTJTBrOS5",
        "outputId": "5f5ed56e-fbd0-4870-e4c6-edca4af71daa"
      },
      "source": [
        "from timemachines.skaters.localskaters import local_skater_from_name\n",
        "f = local_skater_from_name('sk_theta')\n",
        "f"
      ],
      "execution_count": 36,
      "outputs": [
        {
          "output_type": "execute_result",
          "data": {
            "text/plain": [
              "<function timemachines.skaters.sk.sktheta.sk_theta>"
            ]
          },
          "metadata": {
            "tags": []
          },
          "execution_count": 36
        }
      ]
    },
    {
      "cell_type": "markdown",
      "metadata": {
        "id": "WaJ7I7uRwyNv"
      },
      "source": [
        "... or you can find it manually by perusing [timemachines/skaters](https://github.com/microprediction/timemachines/tree/main/timemachines/skaters)\n"
      ]
    },
    {
      "cell_type": "code",
      "metadata": {
        "colab": {
          "base_uri": "https://localhost:8080/"
        },
        "id": "TRjTVerMw863",
        "outputId": "ca3d1b10-54cb-4476-a910-e50675cc5714"
      },
      "source": [
        "from timemachines.skaters.sk.sktheta import sk_theta as g\n",
        "g"
      ],
      "execution_count": 32,
      "outputs": [
        {
          "output_type": "execute_result",
          "data": {
            "text/plain": [
              "<function timemachines.skaters.sk.sktheta.sk_theta>"
            ]
          },
          "metadata": {
            "tags": []
          },
          "execution_count": 32
        }
      ]
    },
    {
      "cell_type": "markdown",
      "metadata": {
        "id": "i2ls8iwkrpdu"
      },
      "source": [
        "Either way, you can use it to forecast 3 steps (say), repeatedly, as as explained in the [README.md](https://github.com/microprediction/timemachines). Note the use of state *s*"
      ]
    },
    {
      "cell_type": "code",
      "metadata": {
        "colab": {
          "base_uri": "https://localhost:8080/"
        },
        "id": "IxjklqTar3vs",
        "outputId": "db8499a0-0c3f-4bb7-deee-26f2c1b0820f"
      },
      "source": [
        "import numpy as np \n",
        "ys = np.random.randn(500)\n",
        "s = {}\n",
        "for y in ys[:150]:\n",
        "   x, x_std, s = f(y=y,s=s,k=3,e=-1) #<-- warming up\n",
        "for y in ys[150:155]:\n",
        "   x, x_std, s = f(y=y,s=s,k=3,e=10)\n",
        "print(x)"
      ],
      "execution_count": 46,
      "outputs": [
        {
          "output_type": "stream",
          "text": [
            "[-0.46057412522376034, -0.461405314176202, -0.4622365031286437]\n"
          ],
          "name": "stdout"
        }
      ]
    }
  ]
}